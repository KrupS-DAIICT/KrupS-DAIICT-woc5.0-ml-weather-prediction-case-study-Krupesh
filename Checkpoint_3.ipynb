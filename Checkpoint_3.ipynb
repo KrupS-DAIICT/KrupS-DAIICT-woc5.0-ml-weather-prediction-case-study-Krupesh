{
  "nbformat": 4,
  "nbformat_minor": 0,
  "metadata": {
    "colab": {
      "provenance": []
    },
    "kernelspec": {
      "name": "python3",
      "display_name": "Python 3"
    },
    "language_info": {
      "name": "python"
    }
  },
  "cells": [
    {
      "cell_type": "markdown",
      "source": [
        "Mount drive."
      ],
      "metadata": {
        "id": "QvOojk9WPak8"
      }
    },
    {
      "cell_type": "code",
      "execution_count": 14,
      "metadata": {
        "colab": {
          "base_uri": "https://localhost:8080/"
        },
        "id": "fEnJuOAvPYi0",
        "outputId": "89c68dfa-694e-4b92-a163-34dd727640ce"
      },
      "outputs": [
        {
          "output_type": "stream",
          "name": "stdout",
          "text": [
            "Drive already mounted at /content/drive; to attempt to forcibly remount, call drive.mount(\"/content/drive\", force_remount=True).\n"
          ]
        }
      ],
      "source": [
        "from google.colab import drive\n",
        "drive.mount('/content/drive')"
      ]
    },
    {
      "cell_type": "markdown",
      "source": [
        "Import Pandas.\n"
      ],
      "metadata": {
        "id": "jlrW-bMsPZNd"
      }
    },
    {
      "cell_type": "code",
      "source": [
        "import pandas as pd"
      ],
      "metadata": {
        "id": "74KeLiBqQBDD"
      },
      "execution_count": 86,
      "outputs": []
    },
    {
      "cell_type": "markdown",
      "source": [
        "Que 1) Reading the above CSV file in google colab using the pandas’ library and converting it into data frames."
      ],
      "metadata": {
        "id": "gsZxHAuXQEVJ"
      }
    },
    {
      "cell_type": "code",
      "source": [
        "path = '/content/drive/MyDrive/Copy of Youtube Influencer Analysis - Updated.csv'\n",
        "df = pd.read_csv(path, encoding='cp1252')\n",
        "df = pd.DataFrame(df)\n",
        "# df"
      ],
      "metadata": {
        "id": "sToYTK1DQHru"
      },
      "execution_count": 87,
      "outputs": []
    },
    {
      "cell_type": "markdown",
      "source": [
        "Que 2) How many values are missing for each column and try dropping or replacing NULL values using appropriate pandas’ function."
      ],
      "metadata": {
        "id": "gwAxbTi1SLKW"
      }
    },
    {
      "cell_type": "code",
      "source": [
        "###### Counting total number of empty cells\n",
        "empty_cells = df.isna().sum()\n",
        "# print(\"Total number of empty cells in each column :-\\n\\n\" + str(empty_cells))\n",
        "\n",
        "###### Removing rows with empty cells\n",
        "df.replace(to_replace='NO', value='No', inplace=True)\n",
        "df = df.dropna()"
      ],
      "metadata": {
        "id": "f0VURurySQ-8"
      },
      "execution_count": 88,
      "outputs": []
    },
    {
      "cell_type": "markdown",
      "source": [
        "Que 3) Drop the columns which are irrelevant features to feed into our model."
      ],
      "metadata": {
        "id": "2eiuvjHkLv1r"
      }
    },
    {
      "cell_type": "code",
      "source": [
        "# Dropping redundant columns\n",
        "df.drop(df.columns[[0, 2, 3, 4, 9, 13, 17]], axis=1, inplace=True)\n",
        "# index: 0 = Video link, 2 = Video title, 3 = Channel URL, 4 = Creator name, 9 = 'Duration in Seconds', 13 = 'Subtitle',, 17 = 'Date of last comment'\n",
        "df"
      ],
      "metadata": {
        "id": "YhoKGIQnLviL"
      },
      "execution_count": null,
      "outputs": []
    },
    {
      "cell_type": "markdown",
      "source": [
        "Que 4) Some columns are not statistical data but in the form of strings. It Is difficult for our model to learn when the data is in form of strings. Your task is to encode these strings using proper encoding techniques."
      ],
      "metadata": {
        "id": "SWSpP5sXdzGh"
      }
    },
    {
      "cell_type": "code",
      "source": [
        "# Creat dummy columns for string categorial variables\n",
        "dummy = [pd.get_dummies(df['Creator Gender']), pd.get_dummies(df['Language of the Video']), pd.get_dummies(df['Video Description']), \n",
        "         pd.get_dummies(df['Premiered or Not']), pd.get_dummies(df['Intern Who Collected the Data'])]\n",
        "\n",
        "# Merge this dummy columns to original df\n",
        "merged = pd.concat([df, dummy[0], dummy[1], dummy[2], dummy[3], dummy[4]], axis=1)\n",
        "\n",
        "# Drop used columns and one of the dummy variable to prevent dummy variable trap\n",
        "merged.drop(merged.columns[[1, 7, 8, 14, 16]], axis=1, inplace=True) # Original Columns\n",
        "merged.drop(merged.columns[[12, 22, 28, 30, 37]], axis=1, inplace=True) # 12 = Company, 22 = Konkani, 28,30 = No, 37 = Mafaz Ali \n",
        "\n",
        "merged.loc[1]"
      ],
      "metadata": {
        "colab": {
          "base_uri": "https://localhost:8080/"
        },
        "id": "Mjb9700OBNOB",
        "outputId": "f447a393-1df1-45e6-f483-822e8949e78c"
      },
      "execution_count": 91,
      "outputs": [
        {
          "output_type": "execute_result",
          "data": {
            "text/plain": [
              "Video Views                                231,969\n",
              "Total Channel Subcribers                    920000\n",
              "Total Chanel Views                       137535681\n",
              "Duration of Video                        00:14:24 \n",
              "Date of Video Upload                     5/22/2022\n",
              "No of Likes                                 7800.0\n",
              "Hashtags                                         1\n",
              "No of Comments                                 189\n",
              "Maximum Quality of the Video                  1080\n",
              "No of Videos the Channel                       251\n",
              "No of Playlist                                12.0\n",
              "Community Engagement (Posts per week)            2\n",
              "Female                                           0\n",
              "Male                                             1\n",
              "English                                          0\n",
              "English + Hindi                                  0\n",
              "Hindi                                            0\n",
              "Hindi/English                                    0\n",
              "Italian                                          0\n",
              "Japenese                                         0\n",
              "Kannada                                          0\n",
              "Malayalam                                        0\n",
              "Mongalian                                        0\n",
              "Sanskrit                                         0\n",
              "Tamil                                            0\n",
              "Telugu                                           1\n",
              "Yes                                              1\n",
              "Yes                                              1\n",
              "Aakash Dodia                                     0\n",
              "Adarsh                                           0\n",
              "Akhil Teja                                       1\n",
              "Harshit Prajapat                                 0\n",
              "Jaimo                                            0\n",
              "Rahul Singh                                      0\n",
              "Sanjay Lakshmanan                                0\n",
              "Shashank                                         0\n",
              "Syed safdar                                      0\n",
              "Thinesh                                          0\n",
              "prateek                                          0\n",
              "Name: 1, dtype: object"
            ]
          },
          "metadata": {},
          "execution_count": 91
        }
      ]
    },
    {
      "cell_type": "code",
      "source": [],
      "metadata": {
        "id": "NEt2dtzFfB8M"
      },
      "execution_count": null,
      "outputs": []
    }
  ]
}