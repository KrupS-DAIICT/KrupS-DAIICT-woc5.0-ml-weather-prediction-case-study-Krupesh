{
  "nbformat": 4,
  "nbformat_minor": 0,
  "metadata": {
    "colab": {
      "provenance": [],
      "authorship_tag": "ABX9TyOr6QzwlRm40AzkDs177ufF"
    },
    "kernelspec": {
      "name": "python3",
      "display_name": "Python 3"
    },
    "language_info": {
      "name": "python"
    }
  },
  "cells": [
    {
      "cell_type": "markdown",
      "source": [
        "Using the previous checkpoint's data."
      ],
      "metadata": {
        "id": "8HHCn7BvgNl6"
      }
    },
    {
      "cell_type": "code",
      "execution_count": null,
      "metadata": {
        "colab": {
          "base_uri": "https://localhost:8080/"
        },
        "id": "P4zNsDpGgHTq",
        "outputId": "6ac80c26-cbd9-4cd1-a14f-5abdbb4f6f2b"
      },
      "outputs": [
        {
          "output_type": "stream",
          "name": "stdout",
          "text": [
            "Mounted at /content/drive\n"
          ]
        }
      ],
      "source": [
        "from google.colab import drive\n",
        "drive.mount('/content/drive')"
      ]
    },
    {
      "cell_type": "code",
      "source": [
        "import pandas as pd"
      ],
      "metadata": {
        "id": "S2UStaJxgZTs"
      },
      "execution_count": null,
      "outputs": []
    },
    {
      "cell_type": "code",
      "source": [
        "df = pd.read_csv('/content/drive/MyDrive/WoC\\'23/Mid-evaluation/weather.csv')\n",
        "df = pd.DataFrame(df)\n",
        "# df\n",
        "\n",
        "# Dropping rows with NULL values\n",
        "df.dropna()"
      ],
      "metadata": {
        "colab": {
          "base_uri": "https://localhost:8080/",
          "height": 423
        },
        "id": "ckVsUYvEgcqN",
        "outputId": "8f51d816-8ceb-4bae-b2ff-d32f5d148802"
      },
      "execution_count": null,
      "outputs": [
        {
          "output_type": "execute_result",
          "data": {
            "text/plain": [
              "      precipitation  temp_max  temp_min  wind  weather\n",
              "0               0.0      12.8       5.0   4.7  drizzle\n",
              "1              10.9      10.6       2.8   4.5     rain\n",
              "2               0.8      11.7       7.2   2.3     rain\n",
              "3              20.3      12.2       5.6   4.7     rain\n",
              "4               1.3       8.9       2.8   6.1     rain\n",
              "...             ...       ...       ...   ...      ...\n",
              "1456            8.6       4.4       1.7   2.9     rain\n",
              "1457            1.5       5.0       1.7   1.3     rain\n",
              "1458            0.0       7.2       0.6   2.6      fog\n",
              "1459            0.0       5.6      -1.0   3.4      sun\n",
              "1460            0.0       5.6      -2.1   3.5      sun\n",
              "\n",
              "[1461 rows x 5 columns]"
            ],
            "text/html": [
              "\n",
              "  <div id=\"df-05ea3da0-4c21-400c-851b-995fa6bd9252\">\n",
              "    <div class=\"colab-df-container\">\n",
              "      <div>\n",
              "<style scoped>\n",
              "    .dataframe tbody tr th:only-of-type {\n",
              "        vertical-align: middle;\n",
              "    }\n",
              "\n",
              "    .dataframe tbody tr th {\n",
              "        vertical-align: top;\n",
              "    }\n",
              "\n",
              "    .dataframe thead th {\n",
              "        text-align: right;\n",
              "    }\n",
              "</style>\n",
              "<table border=\"1\" class=\"dataframe\">\n",
              "  <thead>\n",
              "    <tr style=\"text-align: right;\">\n",
              "      <th></th>\n",
              "      <th>precipitation</th>\n",
              "      <th>temp_max</th>\n",
              "      <th>temp_min</th>\n",
              "      <th>wind</th>\n",
              "      <th>weather</th>\n",
              "    </tr>\n",
              "  </thead>\n",
              "  <tbody>\n",
              "    <tr>\n",
              "      <th>0</th>\n",
              "      <td>0.0</td>\n",
              "      <td>12.8</td>\n",
              "      <td>5.0</td>\n",
              "      <td>4.7</td>\n",
              "      <td>drizzle</td>\n",
              "    </tr>\n",
              "    <tr>\n",
              "      <th>1</th>\n",
              "      <td>10.9</td>\n",
              "      <td>10.6</td>\n",
              "      <td>2.8</td>\n",
              "      <td>4.5</td>\n",
              "      <td>rain</td>\n",
              "    </tr>\n",
              "    <tr>\n",
              "      <th>2</th>\n",
              "      <td>0.8</td>\n",
              "      <td>11.7</td>\n",
              "      <td>7.2</td>\n",
              "      <td>2.3</td>\n",
              "      <td>rain</td>\n",
              "    </tr>\n",
              "    <tr>\n",
              "      <th>3</th>\n",
              "      <td>20.3</td>\n",
              "      <td>12.2</td>\n",
              "      <td>5.6</td>\n",
              "      <td>4.7</td>\n",
              "      <td>rain</td>\n",
              "    </tr>\n",
              "    <tr>\n",
              "      <th>4</th>\n",
              "      <td>1.3</td>\n",
              "      <td>8.9</td>\n",
              "      <td>2.8</td>\n",
              "      <td>6.1</td>\n",
              "      <td>rain</td>\n",
              "    </tr>\n",
              "    <tr>\n",
              "      <th>...</th>\n",
              "      <td>...</td>\n",
              "      <td>...</td>\n",
              "      <td>...</td>\n",
              "      <td>...</td>\n",
              "      <td>...</td>\n",
              "    </tr>\n",
              "    <tr>\n",
              "      <th>1456</th>\n",
              "      <td>8.6</td>\n",
              "      <td>4.4</td>\n",
              "      <td>1.7</td>\n",
              "      <td>2.9</td>\n",
              "      <td>rain</td>\n",
              "    </tr>\n",
              "    <tr>\n",
              "      <th>1457</th>\n",
              "      <td>1.5</td>\n",
              "      <td>5.0</td>\n",
              "      <td>1.7</td>\n",
              "      <td>1.3</td>\n",
              "      <td>rain</td>\n",
              "    </tr>\n",
              "    <tr>\n",
              "      <th>1458</th>\n",
              "      <td>0.0</td>\n",
              "      <td>7.2</td>\n",
              "      <td>0.6</td>\n",
              "      <td>2.6</td>\n",
              "      <td>fog</td>\n",
              "    </tr>\n",
              "    <tr>\n",
              "      <th>1459</th>\n",
              "      <td>0.0</td>\n",
              "      <td>5.6</td>\n",
              "      <td>-1.0</td>\n",
              "      <td>3.4</td>\n",
              "      <td>sun</td>\n",
              "    </tr>\n",
              "    <tr>\n",
              "      <th>1460</th>\n",
              "      <td>0.0</td>\n",
              "      <td>5.6</td>\n",
              "      <td>-2.1</td>\n",
              "      <td>3.5</td>\n",
              "      <td>sun</td>\n",
              "    </tr>\n",
              "  </tbody>\n",
              "</table>\n",
              "<p>1461 rows × 5 columns</p>\n",
              "</div>\n",
              "      <button class=\"colab-df-convert\" onclick=\"convertToInteractive('df-05ea3da0-4c21-400c-851b-995fa6bd9252')\"\n",
              "              title=\"Convert this dataframe to an interactive table.\"\n",
              "              style=\"display:none;\">\n",
              "        \n",
              "  <svg xmlns=\"http://www.w3.org/2000/svg\" height=\"24px\"viewBox=\"0 0 24 24\"\n",
              "       width=\"24px\">\n",
              "    <path d=\"M0 0h24v24H0V0z\" fill=\"none\"/>\n",
              "    <path d=\"M18.56 5.44l.94 2.06.94-2.06 2.06-.94-2.06-.94-.94-2.06-.94 2.06-2.06.94zm-11 1L8.5 8.5l.94-2.06 2.06-.94-2.06-.94L8.5 2.5l-.94 2.06-2.06.94zm10 10l.94 2.06.94-2.06 2.06-.94-2.06-.94-.94-2.06-.94 2.06-2.06.94z\"/><path d=\"M17.41 7.96l-1.37-1.37c-.4-.4-.92-.59-1.43-.59-.52 0-1.04.2-1.43.59L10.3 9.45l-7.72 7.72c-.78.78-.78 2.05 0 2.83L4 21.41c.39.39.9.59 1.41.59.51 0 1.02-.2 1.41-.59l7.78-7.78 2.81-2.81c.8-.78.8-2.07 0-2.86zM5.41 20L4 18.59l7.72-7.72 1.47 1.35L5.41 20z\"/>\n",
              "  </svg>\n",
              "      </button>\n",
              "      \n",
              "  <style>\n",
              "    .colab-df-container {\n",
              "      display:flex;\n",
              "      flex-wrap:wrap;\n",
              "      gap: 12px;\n",
              "    }\n",
              "\n",
              "    .colab-df-convert {\n",
              "      background-color: #E8F0FE;\n",
              "      border: none;\n",
              "      border-radius: 50%;\n",
              "      cursor: pointer;\n",
              "      display: none;\n",
              "      fill: #1967D2;\n",
              "      height: 32px;\n",
              "      padding: 0 0 0 0;\n",
              "      width: 32px;\n",
              "    }\n",
              "\n",
              "    .colab-df-convert:hover {\n",
              "      background-color: #E2EBFA;\n",
              "      box-shadow: 0px 1px 2px rgba(60, 64, 67, 0.3), 0px 1px 3px 1px rgba(60, 64, 67, 0.15);\n",
              "      fill: #174EA6;\n",
              "    }\n",
              "\n",
              "    [theme=dark] .colab-df-convert {\n",
              "      background-color: #3B4455;\n",
              "      fill: #D2E3FC;\n",
              "    }\n",
              "\n",
              "    [theme=dark] .colab-df-convert:hover {\n",
              "      background-color: #434B5C;\n",
              "      box-shadow: 0px 1px 3px 1px rgba(0, 0, 0, 0.15);\n",
              "      filter: drop-shadow(0px 1px 2px rgba(0, 0, 0, 0.3));\n",
              "      fill: #FFFFFF;\n",
              "    }\n",
              "  </style>\n",
              "\n",
              "      <script>\n",
              "        const buttonEl =\n",
              "          document.querySelector('#df-05ea3da0-4c21-400c-851b-995fa6bd9252 button.colab-df-convert');\n",
              "        buttonEl.style.display =\n",
              "          google.colab.kernel.accessAllowed ? 'block' : 'none';\n",
              "\n",
              "        async function convertToInteractive(key) {\n",
              "          const element = document.querySelector('#df-05ea3da0-4c21-400c-851b-995fa6bd9252');\n",
              "          const dataTable =\n",
              "            await google.colab.kernel.invokeFunction('convertToInteractive',\n",
              "                                                     [key], {});\n",
              "          if (!dataTable) return;\n",
              "\n",
              "          const docLinkHtml = 'Like what you see? Visit the ' +\n",
              "            '<a target=\"_blank\" href=https://colab.research.google.com/notebooks/data_table.ipynb>data table notebook</a>'\n",
              "            + ' to learn more about interactive tables.';\n",
              "          element.innerHTML = '';\n",
              "          dataTable['output_type'] = 'display_data';\n",
              "          await google.colab.output.renderOutput(dataTable, element);\n",
              "          const docLink = document.createElement('div');\n",
              "          docLink.innerHTML = docLinkHtml;\n",
              "          element.appendChild(docLink);\n",
              "        }\n",
              "      </script>\n",
              "    </div>\n",
              "  </div>\n",
              "  "
            ]
          },
          "metadata": {},
          "execution_count": 18
        }
      ]
    },
    {
      "cell_type": "markdown",
      "source": [
        "Spliting the data."
      ],
      "metadata": {
        "id": "xH65XsTahLUY"
      }
    },
    {
      "cell_type": "code",
      "source": [
        "from sklearn.model_selection import train_test_split as tts"
      ],
      "metadata": {
        "id": "EbyVBXTRghne"
      },
      "execution_count": null,
      "outputs": []
    },
    {
      "cell_type": "code",
      "source": [
        "x = df[df.columns[0:4]] # Independent data\n",
        "y = df['weather'] # Dependent data"
      ],
      "metadata": {
        "id": "NttnyWQSgnKA"
      },
      "execution_count": null,
      "outputs": []
    },
    {
      "cell_type": "code",
      "source": [
        "x_train, x_test, y_train, y_test = tts(x, y, test_size=0.1)"
      ],
      "metadata": {
        "id": "7SrDkF97gpit"
      },
      "execution_count": null,
      "outputs": []
    },
    {
      "cell_type": "markdown",
      "source": [
        "Training the data using decision tree."
      ],
      "metadata": {
        "id": "CS614LughTXo"
      }
    },
    {
      "cell_type": "code",
      "source": [
        "# Importing librabry\n",
        "from sklearn import tree"
      ],
      "metadata": {
        "id": "gU2IulPOg5YQ"
      },
      "execution_count": null,
      "outputs": []
    },
    {
      "cell_type": "code",
      "source": [
        "# Making an object of a DecisionTree Class\n",
        "model = tree.DecisionTreeClassifier(criterion='entropy' , max_depth=4)"
      ],
      "metadata": {
        "id": "Ap_zuXiwhceI"
      },
      "execution_count": 66,
      "outputs": []
    },
    {
      "cell_type": "markdown",
      "source": [
        "Traing the model."
      ],
      "metadata": {
        "id": "LT8CM0tZhtxT"
      }
    },
    {
      "cell_type": "code",
      "source": [
        "generated_tree = model.fit(x_train, y_train)"
      ],
      "metadata": {
        "id": "T-rwXu6vhsyl"
      },
      "execution_count": 67,
      "outputs": []
    },
    {
      "cell_type": "code",
      "source": [
        "model.score(x_test, y_test)"
      ],
      "metadata": {
        "colab": {
          "base_uri": "https://localhost:8080/"
        },
        "id": "y-WpWrY3h1nv",
        "outputId": "e4348ba7-6191-4fb0-fb6f-d9475c6241b9"
      },
      "execution_count": 68,
      "outputs": [
        {
          "output_type": "execute_result",
          "data": {
            "text/plain": [
              "0.8639455782312925"
            ]
          },
          "metadata": {},
          "execution_count": 68
        }
      ]
    },
    {
      "cell_type": "markdown",
      "source": [
        "To plot the tree."
      ],
      "metadata": {
        "id": "t9U0JIp8jbhI"
      }
    },
    {
      "cell_type": "code",
      "source": [
        "tree.plot_tree(generated_tree)"
      ],
      "metadata": {
        "id": "PBOaW8oPinAe",
        "colab": {
          "base_uri": "https://localhost:8080/",
          "height": 1000
        },
        "outputId": "4d7cd762-bc23-45e7-d122-c8ee33c3636f"
      },
      "execution_count": 65,
      "outputs": [
        {
          "output_type": "execute_result",
          "data": {
            "text/plain": [
              "[Text(0.5652173913043478, 0.9166666666666666, 'X[0] <= 0.15\\nentropy = 1.588\\nsamples = 1314\\nvalue = [48, 90, 575, 24, 577]'),\n",
              " Text(0.3423913043478261, 0.75, 'X[3] <= 2.75\\nentropy = 1.148\\nsamples = 757\\nvalue = [48, 90, 42, 0, 577]'),\n",
              " Text(0.17391304347826086, 0.5833333333333334, 'X[1] <= 19.15\\nentropy = 1.312\\nsamples = 394\\nvalue = [37, 66, 17, 0, 274]'),\n",
              " Text(0.08695652173913043, 0.4166666666666667, 'X[2] <= 0.3\\nentropy = 1.493\\nsamples = 199\\nvalue = [22, 46, 10, 0, 121]'),\n",
              " Text(0.043478260869565216, 0.25, 'X[3] <= 2.15\\nentropy = 1.181\\nsamples = 31\\nvalue = [9, 2, 0, 0, 20]'),\n",
              " Text(0.021739130434782608, 0.08333333333333333, 'entropy = 1.309\\nsamples = 24\\nvalue = [9, 2, 0, 0, 13]'),\n",
              " Text(0.06521739130434782, 0.08333333333333333, 'entropy = 0.0\\nsamples = 7\\nvalue = [0, 0, 0, 0, 7]'),\n",
              " Text(0.13043478260869565, 0.25, 'X[1] <= 10.85\\nentropy = 1.476\\nsamples = 168\\nvalue = [13, 44, 10, 0, 101]'),\n",
              " Text(0.10869565217391304, 0.08333333333333333, 'entropy = 1.65\\nsamples = 55\\nvalue = [5, 11, 8, 0, 31]'),\n",
              " Text(0.15217391304347827, 0.08333333333333333, 'entropy = 1.32\\nsamples = 113\\nvalue = [8, 33, 2, 0, 70]'),\n",
              " Text(0.2608695652173913, 0.4166666666666667, 'X[1] <= 29.15\\nentropy = 1.068\\nsamples = 195\\nvalue = [15, 20, 7, 0, 153]'),\n",
              " Text(0.21739130434782608, 0.25, 'X[1] <= 20.3\\nentropy = 1.137\\nsamples = 169\\nvalue = [13, 20, 7, 0, 129]'),\n",
              " Text(0.1956521739130435, 0.08333333333333333, 'entropy = 0.723\\nsamples = 21\\nvalue = [2, 0, 1, 0, 18]'),\n",
              " Text(0.2391304347826087, 0.08333333333333333, 'entropy = 1.168\\nsamples = 148\\nvalue = [11, 20, 6, 0, 111]'),\n",
              " Text(0.30434782608695654, 0.25, 'X[3] <= 2.15\\nentropy = 0.391\\nsamples = 26\\nvalue = [2, 0, 0, 0, 24]'),\n",
              " Text(0.2826086956521739, 0.08333333333333333, 'entropy = 0.567\\nsamples = 15\\nvalue = [2, 0, 0, 0, 13]'),\n",
              " Text(0.32608695652173914, 0.08333333333333333, 'entropy = 0.0\\nsamples = 11\\nvalue = [0, 0, 0, 0, 11]'),\n",
              " Text(0.5108695652173914, 0.5833333333333334, 'X[1] <= 19.15\\nentropy = 0.895\\nsamples = 363\\nvalue = [11, 24, 25, 0, 303]'),\n",
              " Text(0.43478260869565216, 0.4166666666666667, 'X[2] <= 0.85\\nentropy = 1.151\\nsamples = 161\\nvalue = [5, 13, 22, 0, 121]'),\n",
              " Text(0.391304347826087, 0.25, 'X[2] <= 0.3\\nentropy = 0.523\\nsamples = 34\\nvalue = [0, 4, 0, 0, 30]'),\n",
              " Text(0.3695652173913043, 0.08333333333333333, 'entropy = 0.222\\nsamples = 28\\nvalue = [0, 1, 0, 0, 27]'),\n",
              " Text(0.41304347826086957, 0.08333333333333333, 'entropy = 1.0\\nsamples = 6\\nvalue = [0, 3, 0, 0, 3]'),\n",
              " Text(0.4782608695652174, 0.25, 'X[1] <= 15.85\\nentropy = 1.237\\nsamples = 127\\nvalue = [5, 9, 22, 0, 91]'),\n",
              " Text(0.45652173913043476, 0.08333333333333333, 'entropy = 1.421\\nsamples = 76\\nvalue = [4, 9, 13, 0, 50]'),\n",
              " Text(0.5, 0.08333333333333333, 'entropy = 0.806\\nsamples = 51\\nvalue = [1, 0, 9, 0, 41]'),\n",
              " Text(0.5869565217391305, 0.4166666666666667, 'X[3] <= 6.2\\nentropy = 0.605\\nsamples = 202\\nvalue = [6, 11, 3, 0, 182]'),\n",
              " Text(0.5652173913043478, 0.25, 'X[2] <= 10.85\\nentropy = 0.587\\nsamples = 201\\nvalue = [6, 10, 3, 0, 182]'),\n",
              " Text(0.5434782608695652, 0.08333333333333333, 'entropy = 0.593\\nsamples = 36\\nvalue = [3, 1, 0, 0, 32]'),\n",
              " Text(0.5869565217391305, 0.08333333333333333, 'entropy = 0.564\\nsamples = 165\\nvalue = [3, 9, 3, 0, 150]'),\n",
              " Text(0.6086956521739131, 0.25, 'entropy = 0.0\\nsamples = 1\\nvalue = [0, 1, 0, 0, 0]'),\n",
              " Text(0.7880434782608695, 0.75, 'X[2] <= 0.85\\nentropy = 0.256\\nsamples = 557\\nvalue = [0, 0, 533, 24, 0]'),\n",
              " Text(0.6956521739130435, 0.5833333333333334, 'X[3] <= 3.75\\nentropy = 0.967\\nsamples = 28\\nvalue = [0, 0, 11, 17, 0]'),\n",
              " Text(0.6739130434782609, 0.4166666666666667, 'X[1] <= 3.6\\nentropy = 0.937\\nsamples = 17\\nvalue = [0, 0, 11, 6, 0]'),\n",
              " Text(0.6521739130434783, 0.25, 'entropy = 0.0\\nsamples = 3\\nvalue = [0, 0, 0, 3, 0]'),\n",
              " Text(0.6956521739130435, 0.25, 'X[3] <= 2.55\\nentropy = 0.75\\nsamples = 14\\nvalue = [0, 0, 11, 3, 0]'),\n",
              " Text(0.6739130434782609, 0.08333333333333333, 'entropy = 0.0\\nsamples = 6\\nvalue = [0, 0, 6, 0, 0]'),\n",
              " Text(0.717391304347826, 0.08333333333333333, 'entropy = 0.954\\nsamples = 8\\nvalue = [0, 0, 5, 3, 0]'),\n",
              " Text(0.717391304347826, 0.4166666666666667, 'entropy = 0.0\\nsamples = 11\\nvalue = [0, 0, 0, 11, 0]'),\n",
              " Text(0.8804347826086957, 0.5833333333333334, 'X[2] <= 3.6\\nentropy = 0.102\\nsamples = 529\\nvalue = [0, 0, 522, 7, 0]'),\n",
              " Text(0.8260869565217391, 0.4166666666666667, 'X[3] <= 4.15\\nentropy = 0.402\\nsamples = 75\\nvalue = [0, 0, 69, 6, 0]'),\n",
              " Text(0.782608695652174, 0.25, 'X[3] <= 1.95\\nentropy = 0.151\\nsamples = 46\\nvalue = [0, 0, 45, 1, 0]'),\n",
              " Text(0.7608695652173914, 0.08333333333333333, 'entropy = 0.592\\nsamples = 7\\nvalue = [0, 0, 6, 1, 0]'),\n",
              " Text(0.8043478260869565, 0.08333333333333333, 'entropy = 0.0\\nsamples = 39\\nvalue = [0, 0, 39, 0, 0]'),\n",
              " Text(0.8695652173913043, 0.25, 'X[0] <= 7.6\\nentropy = 0.663\\nsamples = 29\\nvalue = [0, 0, 24, 5, 0]'),\n",
              " Text(0.8478260869565217, 0.08333333333333333, 'entropy = 0.337\\nsamples = 16\\nvalue = [0, 0, 15, 1, 0]'),\n",
              " Text(0.8913043478260869, 0.08333333333333333, 'entropy = 0.89\\nsamples = 13\\nvalue = [0, 0, 9, 4, 0]'),\n",
              " Text(0.9347826086956522, 0.4166666666666667, 'X[0] <= 23.75\\nentropy = 0.023\\nsamples = 454\\nvalue = [0, 0, 453, 1, 0]'),\n",
              " Text(0.9130434782608695, 0.25, 'entropy = 0.0\\nsamples = 423\\nvalue = [0, 0, 423, 0, 0]'),\n",
              " Text(0.9565217391304348, 0.25, 'X[0] <= 24.65\\nentropy = 0.206\\nsamples = 31\\nvalue = [0, 0, 30, 1, 0]'),\n",
              " Text(0.9347826086956522, 0.08333333333333333, 'entropy = 0.0\\nsamples = 1\\nvalue = [0, 0, 0, 1, 0]'),\n",
              " Text(0.9782608695652174, 0.08333333333333333, 'entropy = 0.0\\nsamples = 30\\nvalue = [0, 0, 30, 0, 0]')]"
            ]
          },
          "metadata": {},
          "execution_count": 65
        },
        {
          "output_type": "display_data",
          "data": {
            "text/plain": [
              "<Figure size 432x288 with 1 Axes>"
            ],
            "image/png": "[encoded data removed]"
          },
          "metadata": {
            "needs_background": "light"
          }
        }
      ]
    },
    {
      "cell_type": "code",
      "source": [],
      "metadata": {
        "id": "y23n2yLFnGTx"
      },
      "execution_count": null,
      "outputs": []
    }
  ]
}