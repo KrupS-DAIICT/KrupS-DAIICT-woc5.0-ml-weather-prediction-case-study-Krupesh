{
  "nbformat": 4,
  "nbformat_minor": 0,
  "metadata": {
    "colab": {
      "provenance": [],
      "authorship_tag": "ABX9TyMFenYMAVSZ0RVlDrz1EDZ2"
    },
    "kernelspec": {
      "name": "python3",
      "display_name": "Python 3"
    },
    "language_info": {
      "name": "python"
    }
  },
  "cells": [
    {
      "cell_type": "markdown",
      "source": [
        "Using the previous checkpoint's data."
      ],
      "metadata": {
        "id": "8HHCn7BvgNl6"
      }
    },
    {
      "cell_type": "code",
      "execution_count": 1,
      "metadata": {
        "colab": {
          "base_uri": "https://localhost:8080/"
        },
        "id": "P4zNsDpGgHTq",
        "outputId": "2e90967a-1181-4fa1-f97d-c4249cc3f5ed"
      },
      "outputs": [
        {
          "output_type": "stream",
          "name": "stdout",
          "text": [
            "Mounted at /content/drive\n"
          ]
        }
      ],
      "source": [
        "from google.colab import drive\n",
        "drive.mount('/content/drive')"
      ]
    },
    {
      "cell_type": "code",
      "source": [
        "import pandas as pd"
      ],
      "metadata": {
        "id": "S2UStaJxgZTs"
      },
      "execution_count": 2,
      "outputs": []
    },
    {
      "cell_type": "code",
      "source": [
        "df = pd.read_csv('/content/drive/MyDrive/WoC\\'23/Mid-evaluation/weather.csv')\n",
        "df = pd.DataFrame(df)\n",
        "# df\n",
        "\n",
        "# Dropping rows with NULL values\n",
        "df.dropna()"
      ],
      "metadata": {
        "colab": {
          "base_uri": "https://localhost:8080/",
          "height": 423
        },
        "id": "ckVsUYvEgcqN",
        "outputId": "b358c890-e5f7-4f7a-e283-ba3510565a01"
      },
      "execution_count": 3,
      "outputs": [
        {
          "output_type": "execute_result",
          "data": {
            "text/plain": [
              "      precipitation  temp_max  temp_min  wind  weather\n",
              "0               0.0      12.8       5.0   4.7  drizzle\n",
              "1              10.9      10.6       2.8   4.5     rain\n",
              "2               0.8      11.7       7.2   2.3     rain\n",
              "3              20.3      12.2       5.6   4.7     rain\n",
              "4               1.3       8.9       2.8   6.1     rain\n",
              "...             ...       ...       ...   ...      ...\n",
              "1456            8.6       4.4       1.7   2.9     rain\n",
              "1457            1.5       5.0       1.7   1.3     rain\n",
              "1458            0.0       7.2       0.6   2.6      fog\n",
              "1459            0.0       5.6      -1.0   3.4      sun\n",
              "1460            0.0       5.6      -2.1   3.5      sun\n",
              "\n",
              "[1461 rows x 5 columns]"
            ],
            "text/html": [
              "\n",
              "  <div id=\"df-a7e0e8b5-3789-49ad-8dbd-1842f3eb9a7d\">\n",
              "    <div class=\"colab-df-container\">\n",
              "      <div>\n",
              "<style scoped>\n",
              "    .dataframe tbody tr th:only-of-type {\n",
              "        vertical-align: middle;\n",
              "    }\n",
              "\n",
              "    .dataframe tbody tr th {\n",
              "        vertical-align: top;\n",
              "    }\n",
              "\n",
              "    .dataframe thead th {\n",
              "        text-align: right;\n",
              "    }\n",
              "</style>\n",
              "<table border=\"1\" class=\"dataframe\">\n",
              "  <thead>\n",
              "    <tr style=\"text-align: right;\">\n",
              "      <th></th>\n",
              "      <th>precipitation</th>\n",
              "      <th>temp_max</th>\n",
              "      <th>temp_min</th>\n",
              "      <th>wind</th>\n",
              "      <th>weather</th>\n",
              "    </tr>\n",
              "  </thead>\n",
              "  <tbody>\n",
              "    <tr>\n",
              "      <th>0</th>\n",
              "      <td>0.0</td>\n",
              "      <td>12.8</td>\n",
              "      <td>5.0</td>\n",
              "      <td>4.7</td>\n",
              "      <td>drizzle</td>\n",
              "    </tr>\n",
              "    <tr>\n",
              "      <th>1</th>\n",
              "      <td>10.9</td>\n",
              "      <td>10.6</td>\n",
              "      <td>2.8</td>\n",
              "      <td>4.5</td>\n",
              "      <td>rain</td>\n",
              "    </tr>\n",
              "    <tr>\n",
              "      <th>2</th>\n",
              "      <td>0.8</td>\n",
              "      <td>11.7</td>\n",
              "      <td>7.2</td>\n",
              "      <td>2.3</td>\n",
              "      <td>rain</td>\n",
              "    </tr>\n",
              "    <tr>\n",
              "      <th>3</th>\n",
              "      <td>20.3</td>\n",
              "      <td>12.2</td>\n",
              "      <td>5.6</td>\n",
              "      <td>4.7</td>\n",
              "      <td>rain</td>\n",
              "    </tr>\n",
              "    <tr>\n",
              "      <th>4</th>\n",
              "      <td>1.3</td>\n",
              "      <td>8.9</td>\n",
              "      <td>2.8</td>\n",
              "      <td>6.1</td>\n",
              "      <td>rain</td>\n",
              "    </tr>\n",
              "    <tr>\n",
              "      <th>...</th>\n",
              "      <td>...</td>\n",
              "      <td>...</td>\n",
              "      <td>...</td>\n",
              "      <td>...</td>\n",
              "      <td>...</td>\n",
              "    </tr>\n",
              "    <tr>\n",
              "      <th>1456</th>\n",
              "      <td>8.6</td>\n",
              "      <td>4.4</td>\n",
              "      <td>1.7</td>\n",
              "      <td>2.9</td>\n",
              "      <td>rain</td>\n",
              "    </tr>\n",
              "    <tr>\n",
              "      <th>1457</th>\n",
              "      <td>1.5</td>\n",
              "      <td>5.0</td>\n",
              "      <td>1.7</td>\n",
              "      <td>1.3</td>\n",
              "      <td>rain</td>\n",
              "    </tr>\n",
              "    <tr>\n",
              "      <th>1458</th>\n",
              "      <td>0.0</td>\n",
              "      <td>7.2</td>\n",
              "      <td>0.6</td>\n",
              "      <td>2.6</td>\n",
              "      <td>fog</td>\n",
              "    </tr>\n",
              "    <tr>\n",
              "      <th>1459</th>\n",
              "      <td>0.0</td>\n",
              "      <td>5.6</td>\n",
              "      <td>-1.0</td>\n",
              "      <td>3.4</td>\n",
              "      <td>sun</td>\n",
              "    </tr>\n",
              "    <tr>\n",
              "      <th>1460</th>\n",
              "      <td>0.0</td>\n",
              "      <td>5.6</td>\n",
              "      <td>-2.1</td>\n",
              "      <td>3.5</td>\n",
              "      <td>sun</td>\n",
              "    </tr>\n",
              "  </tbody>\n",
              "</table>\n",
              "<p>1461 rows × 5 columns</p>\n",
              "</div>\n",
              "      <button class=\"colab-df-convert\" onclick=\"convertToInteractive('df-a7e0e8b5-3789-49ad-8dbd-1842f3eb9a7d')\"\n",
              "              title=\"Convert this dataframe to an interactive table.\"\n",
              "              style=\"display:none;\">\n",
              "        \n",
              "  <svg xmlns=\"http://www.w3.org/2000/svg\" height=\"24px\"viewBox=\"0 0 24 24\"\n",
              "       width=\"24px\">\n",
              "    <path d=\"M0 0h24v24H0V0z\" fill=\"none\"/>\n",
              "    <path d=\"M18.56 5.44l.94 2.06.94-2.06 2.06-.94-2.06-.94-.94-2.06-.94 2.06-2.06.94zm-11 1L8.5 8.5l.94-2.06 2.06-.94-2.06-.94L8.5 2.5l-.94 2.06-2.06.94zm10 10l.94 2.06.94-2.06 2.06-.94-2.06-.94-.94-2.06-.94 2.06-2.06.94z\"/><path d=\"M17.41 7.96l-1.37-1.37c-.4-.4-.92-.59-1.43-.59-.52 0-1.04.2-1.43.59L10.3 9.45l-7.72 7.72c-.78.78-.78 2.05 0 2.83L4 21.41c.39.39.9.59 1.41.59.51 0 1.02-.2 1.41-.59l7.78-7.78 2.81-2.81c.8-.78.8-2.07 0-2.86zM5.41 20L4 18.59l7.72-7.72 1.47 1.35L5.41 20z\"/>\n",
              "  </svg>\n",
              "      </button>\n",
              "      \n",
              "  <style>\n",
              "    .colab-df-container {\n",
              "      display:flex;\n",
              "      flex-wrap:wrap;\n",
              "      gap: 12px;\n",
              "    }\n",
              "\n",
              "    .colab-df-convert {\n",
              "      background-color: #E8F0FE;\n",
              "      border: none;\n",
              "      border-radius: 50%;\n",
              "      cursor: pointer;\n",
              "      display: none;\n",
              "      fill: #1967D2;\n",
              "      height: 32px;\n",
              "      padding: 0 0 0 0;\n",
              "      width: 32px;\n",
              "    }\n",
              "\n",
              "    .colab-df-convert:hover {\n",
              "      background-color: #E2EBFA;\n",
              "      box-shadow: 0px 1px 2px rgba(60, 64, 67, 0.3), 0px 1px 3px 1px rgba(60, 64, 67, 0.15);\n",
              "      fill: #174EA6;\n",
              "    }\n",
              "\n",
              "    [theme=dark] .colab-df-convert {\n",
              "      background-color: #3B4455;\n",
              "      fill: #D2E3FC;\n",
              "    }\n",
              "\n",
              "    [theme=dark] .colab-df-convert:hover {\n",
              "      background-color: #434B5C;\n",
              "      box-shadow: 0px 1px 3px 1px rgba(0, 0, 0, 0.15);\n",
              "      filter: drop-shadow(0px 1px 2px rgba(0, 0, 0, 0.3));\n",
              "      fill: #FFFFFF;\n",
              "    }\n",
              "  </style>\n",
              "\n",
              "      <script>\n",
              "        const buttonEl =\n",
              "          document.querySelector('#df-a7e0e8b5-3789-49ad-8dbd-1842f3eb9a7d button.colab-df-convert');\n",
              "        buttonEl.style.display =\n",
              "          google.colab.kernel.accessAllowed ? 'block' : 'none';\n",
              "\n",
              "        async function convertToInteractive(key) {\n",
              "          const element = document.querySelector('#df-a7e0e8b5-3789-49ad-8dbd-1842f3eb9a7d');\n",
              "          const dataTable =\n",
              "            await google.colab.kernel.invokeFunction('convertToInteractive',\n",
              "                                                     [key], {});\n",
              "          if (!dataTable) return;\n",
              "\n",
              "          const docLinkHtml = 'Like what you see? Visit the ' +\n",
              "            '<a target=\"_blank\" href=https://colab.research.google.com/notebooks/data_table.ipynb>data table notebook</a>'\n",
              "            + ' to learn more about interactive tables.';\n",
              "          element.innerHTML = '';\n",
              "          dataTable['output_type'] = 'display_data';\n",
              "          await google.colab.output.renderOutput(dataTable, element);\n",
              "          const docLink = document.createElement('div');\n",
              "          docLink.innerHTML = docLinkHtml;\n",
              "          element.appendChild(docLink);\n",
              "        }\n",
              "      </script>\n",
              "    </div>\n",
              "  </div>\n",
              "  "
            ]
          },
          "metadata": {},
          "execution_count": 3
        }
      ]
    },
    {
      "cell_type": "markdown",
      "source": [
        "Spliting the data."
      ],
      "metadata": {
        "id": "xH65XsTahLUY"
      }
    },
    {
      "cell_type": "code",
      "source": [
        "from sklearn.model_selection import train_test_split as tts"
      ],
      "metadata": {
        "id": "EbyVBXTRghne"
      },
      "execution_count": 4,
      "outputs": []
    },
    {
      "cell_type": "code",
      "source": [
        "x = df[df.columns[0:4]] # Independent data\n",
        "y = df['weather'] # Dependent data"
      ],
      "metadata": {
        "id": "NttnyWQSgnKA"
      },
      "execution_count": 5,
      "outputs": []
    },
    {
      "cell_type": "code",
      "source": [
        "x_train, x_test, y_train, y_test = tts(x, y, test_size=0.1)"
      ],
      "metadata": {
        "id": "7SrDkF97gpit"
      },
      "execution_count": 11,
      "outputs": []
    },
    {
      "cell_type": "markdown",
      "source": [
        "Training the data using decision tree."
      ],
      "metadata": {
        "id": "CS614LughTXo"
      }
    },
    {
      "cell_type": "code",
      "source": [
        "# Importing librabry\n",
        "from sklearn import tree"
      ],
      "metadata": {
        "id": "gU2IulPOg5YQ"
      },
      "execution_count": 7,
      "outputs": []
    },
    {
      "cell_type": "code",
      "source": [
        "# Making an object of a DecisionTree Class\n",
        "model = tree.DecisionTreeClassifier(criterion='entropy' , max_depth=5)"
      ],
      "metadata": {
        "id": "Ap_zuXiwhceI"
      },
      "execution_count": 12,
      "outputs": []
    },
    {
      "cell_type": "markdown",
      "source": [
        "Traing the model."
      ],
      "metadata": {
        "id": "LT8CM0tZhtxT"
      }
    },
    {
      "cell_type": "code",
      "source": [
        "generated_tree = model.fit(x_train, y_train)"
      ],
      "metadata": {
        "id": "T-rwXu6vhsyl"
      },
      "execution_count": 13,
      "outputs": []
    },
    {
      "cell_type": "code",
      "source": [
        "model.score(x_test, y_test)"
      ],
      "metadata": {
        "colab": {
          "base_uri": "https://localhost:8080/"
        },
        "id": "y-WpWrY3h1nv",
        "outputId": "376c5c34-5313-4418-9e4d-d3bb7f2046a4"
      },
      "execution_count": 14,
      "outputs": [
        {
          "output_type": "execute_result",
          "data": {
            "text/plain": [
              "0.8707482993197279"
            ]
          },
          "metadata": {},
          "execution_count": 14
        }
      ]
    },
    {
      "cell_type": "markdown",
      "source": [
        "To plot the tree."
      ],
      "metadata": {
        "id": "t9U0JIp8jbhI"
      }
    },
    {
      "cell_type": "code",
      "source": [
        "tree.plot_tree(generated_tree)"
      ],
      "metadata": {
        "id": "PBOaW8oPinAe",
        "colab": {
          "base_uri": "https://localhost:8080/",
          "height": 1000
        },
        "outputId": "1e07929b-9b2f-4a72-a41a-18c7fdf9d27c"
      },
      "execution_count": 15,
      "outputs": [
        {
          "output_type": "execute_result",
          "data": {
            "text/plain": [
              "[Text(0.5755208333333334, 0.9166666666666666, 'X[0] <= 0.15\\nentropy = 1.598\\nsamples = 1314\\nvalue = [50, 94, 567, 23, 580]'),\n",
              " Text(0.3333333333333333, 0.75, 'X[3] <= 2.75\\nentropy = 1.142\\nsamples = 761\\nvalue = [50, 94, 37, 0, 580]'),\n",
              " Text(0.16666666666666666, 0.5833333333333334, 'X[1] <= 26.95\\nentropy = 1.294\\nsamples = 410\\nvalue = [38, 69, 16, 0, 287]'),\n",
              " Text(0.08333333333333333, 0.4166666666666667, 'X[2] <= -0.55\\nentropy = 1.374\\nsamples = 353\\nvalue = [35, 66, 16, 0, 236]'),\n",
              " Text(0.041666666666666664, 0.25, 'X[3] <= 2.15\\nentropy = 1.086\\nsamples = 27\\nvalue = [8, 1, 0, 0, 18]'),\n",
              " Text(0.020833333333333332, 0.08333333333333333, 'entropy = 1.219\\nsamples = 20\\nvalue = [8, 1, 0, 0, 11]'),\n",
              " Text(0.0625, 0.08333333333333333, 'entropy = 0.0\\nsamples = 7\\nvalue = [0, 0, 0, 0, 7]'),\n",
              " Text(0.125, 0.25, 'X[1] <= 9.7\\nentropy = 1.363\\nsamples = 326\\nvalue = [27, 65, 16, 0, 218]'),\n",
              " Text(0.10416666666666667, 0.08333333333333333, 'entropy = 1.788\\nsamples = 44\\nvalue = [5, 11, 7, 0, 21]'),\n",
              " Text(0.14583333333333334, 0.08333333333333333, 'entropy = 1.264\\nsamples = 282\\nvalue = [22, 54, 9, 0, 197]'),\n",
              " Text(0.25, 0.4166666666666667, 'X[3] <= 2.15\\nentropy = 0.591\\nsamples = 57\\nvalue = [3, 3, 0, 0, 51]'),\n",
              " Text(0.20833333333333334, 0.25, 'X[2] <= 13.6\\nentropy = 0.491\\nsamples = 28\\nvalue = [3, 0, 0, 0, 25]'),\n",
              " Text(0.1875, 0.08333333333333333, 'entropy = 0.0\\nsamples = 7\\nvalue = [0, 0, 0, 0, 7]'),\n",
              " Text(0.22916666666666666, 0.08333333333333333, 'entropy = 0.592\\nsamples = 21\\nvalue = [3, 0, 0, 0, 18]'),\n",
              " Text(0.2916666666666667, 0.25, 'X[3] <= 2.25\\nentropy = 0.48\\nsamples = 29\\nvalue = [0, 3, 0, 0, 26]'),\n",
              " Text(0.2708333333333333, 0.08333333333333333, 'entropy = 0.985\\nsamples = 7\\nvalue = [0, 3, 0, 0, 4]'),\n",
              " Text(0.3125, 0.08333333333333333, 'entropy = 0.0\\nsamples = 22\\nvalue = [0, 0, 0, 0, 22]'),\n",
              " Text(0.5, 0.5833333333333334, 'X[1] <= 19.15\\nentropy = 0.899\\nsamples = 351\\nvalue = [12, 25, 21, 0, 293]'),\n",
              " Text(0.4166666666666667, 0.4166666666666667, 'X[1] <= 15.85\\nentropy = 1.162\\nsamples = 155\\nvalue = [6, 14, 18, 0, 117]'),\n",
              " Text(0.375, 0.25, 'X[2] <= 0.3\\nentropy = 1.277\\nsamples = 106\\nvalue = [5, 14, 11, 0, 76]'),\n",
              " Text(0.3541666666666667, 0.08333333333333333, 'entropy = 0.235\\nsamples = 26\\nvalue = [0, 1, 0, 0, 25]'),\n",
              " Text(0.3958333333333333, 0.08333333333333333, 'entropy = 1.484\\nsamples = 80\\nvalue = [5, 13, 11, 0, 51]'),\n",
              " Text(0.4583333333333333, 0.25, 'X[2] <= 12.5\\nentropy = 0.731\\nsamples = 49\\nvalue = [1, 0, 7, 0, 41]'),\n",
              " Text(0.4375, 0.08333333333333333, 'entropy = 0.559\\nsamples = 46\\nvalue = [0, 0, 6, 0, 40]'),\n",
              " Text(0.4791666666666667, 0.08333333333333333, 'entropy = 1.585\\nsamples = 3\\nvalue = [1, 0, 1, 0, 1]'),\n",
              " Text(0.5833333333333334, 0.4166666666666667, 'X[1] <= 23.6\\nentropy = 0.619\\nsamples = 196\\nvalue = [6, 11, 3, 0, 176]'),\n",
              " Text(0.5416666666666666, 0.25, 'X[1] <= 21.95\\nentropy = 0.693\\nsamples = 78\\nvalue = [2, 4, 3, 0, 69]'),\n",
              " Text(0.5208333333333334, 0.08333333333333333, 'entropy = 0.725\\nsamples = 55\\nvalue = [2, 4, 1, 0, 48]'),\n",
              " Text(0.5625, 0.08333333333333333, 'entropy = 0.426\\nsamples = 23\\nvalue = [0, 0, 2, 0, 21]'),\n",
              " Text(0.625, 0.25, 'X[3] <= 5.35\\nentropy = 0.535\\nsamples = 118\\nvalue = [4, 7, 0, 0, 107]'),\n",
              " Text(0.6041666666666666, 0.08333333333333333, 'entropy = 0.477\\nsamples = 114\\nvalue = [4, 5, 0, 0, 105]'),\n",
              " Text(0.6458333333333334, 0.08333333333333333, 'entropy = 1.0\\nsamples = 4\\nvalue = [0, 2, 0, 0, 2]'),\n",
              " Text(0.8177083333333334, 0.75, 'X[2] <= 0.85\\nentropy = 0.25\\nsamples = 553\\nvalue = [0, 0, 530, 23, 0]'),\n",
              " Text(0.75, 0.5833333333333334, 'X[3] <= 3.1\\nentropy = 0.975\\nsamples = 27\\nvalue = [0, 0, 11, 16, 0]'),\n",
              " Text(0.7291666666666666, 0.4166666666666667, 'X[0] <= 10.2\\nentropy = 0.75\\nsamples = 14\\nvalue = [0, 0, 11, 3, 0]'),\n",
              " Text(0.7083333333333334, 0.25, 'X[1] <= 3.6\\nentropy = 0.619\\nsamples = 13\\nvalue = [0, 0, 11, 2, 0]'),\n",
              " Text(0.6875, 0.08333333333333333, 'entropy = 0.0\\nsamples = 1\\nvalue = [0, 0, 0, 1, 0]'),\n",
              " Text(0.7291666666666666, 0.08333333333333333, 'entropy = 0.414\\nsamples = 12\\nvalue = [0, 0, 11, 1, 0]'),\n",
              " Text(0.75, 0.25, 'entropy = 0.0\\nsamples = 1\\nvalue = [0, 0, 0, 1, 0]'),\n",
              " Text(0.7708333333333334, 0.4166666666666667, 'entropy = 0.0\\nsamples = 13\\nvalue = [0, 0, 0, 13, 0]'),\n",
              " Text(0.8854166666666666, 0.5833333333333334, 'X[2] <= 3.6\\nentropy = 0.102\\nsamples = 526\\nvalue = [0, 0, 519, 7, 0]'),\n",
              " Text(0.8333333333333334, 0.4166666666666667, 'X[3] <= 4.15\\nentropy = 0.378\\nsamples = 82\\nvalue = [0, 0, 76, 6, 0]'),\n",
              " Text(0.7916666666666666, 0.25, 'X[3] <= 1.95\\nentropy = 0.141\\nsamples = 50\\nvalue = [0, 0, 49, 1, 0]'),\n",
              " Text(0.7708333333333334, 0.08333333333333333, 'entropy = 0.503\\nsamples = 9\\nvalue = [0, 0, 8, 1, 0]'),\n",
              " Text(0.8125, 0.08333333333333333, 'entropy = 0.0\\nsamples = 41\\nvalue = [0, 0, 41, 0, 0]'),\n",
              " Text(0.875, 0.25, 'X[1] <= 10.3\\nentropy = 0.625\\nsamples = 32\\nvalue = [0, 0, 27, 5, 0]'),\n",
              " Text(0.8541666666666666, 0.08333333333333333, 'entropy = 0.722\\nsamples = 25\\nvalue = [0, 0, 20, 5, 0]'),\n",
              " Text(0.8958333333333334, 0.08333333333333333, 'entropy = 0.0\\nsamples = 7\\nvalue = [0, 0, 7, 0, 0]'),\n",
              " Text(0.9375, 0.4166666666666667, 'X[0] <= 23.75\\nentropy = 0.023\\nsamples = 444\\nvalue = [0, 0, 443, 1, 0]'),\n",
              " Text(0.9166666666666666, 0.25, 'entropy = 0.0\\nsamples = 422\\nvalue = [0, 0, 422, 0, 0]'),\n",
              " Text(0.9583333333333334, 0.25, 'X[0] <= 25.05\\nentropy = 0.267\\nsamples = 22\\nvalue = [0, 0, 21, 1, 0]'),\n",
              " Text(0.9375, 0.08333333333333333, 'entropy = 0.0\\nsamples = 1\\nvalue = [0, 0, 0, 1, 0]'),\n",
              " Text(0.9791666666666666, 0.08333333333333333, 'entropy = 0.0\\nsamples = 21\\nvalue = [0, 0, 21, 0, 0]')]"
            ]
          },
          "metadata": {},
          "execution_count": 15
        },
        {
          "output_type": "display_data",
          "data": {
            "text/plain": [
              "<Figure size 432x288 with 1 Axes>"
            ],
            "image/png": "[encoded data removed]"
          },
          "metadata": {
            "needs_background": "light"
          }
        }
      ]
    }
  ]
}
