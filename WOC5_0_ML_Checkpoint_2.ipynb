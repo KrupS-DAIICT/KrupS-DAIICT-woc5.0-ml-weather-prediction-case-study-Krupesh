{
  "nbformat": 4,
  "nbformat_minor": 0,
  "metadata": {
    "colab": {
      "provenance": []
    },
    "kernelspec": {
      "name": "python3",
      "display_name": "Python 3"
    },
    "language_info": {
      "name": "python"
    }
  },
  "cells": [
    {
      "cell_type": "markdown",
      "source": [
        "Exercise 1)"
      ],
      "metadata": {
        "id": "c3KKbnChPMv_"
      }
    },
    {
      "cell_type": "code",
      "execution_count": 1,
      "metadata": {
        "colab": {
          "base_uri": "https://localhost:8080/"
        },
        "id": "uTg20xXQPFMk",
        "outputId": "7eca1201-62ae-4413-ab1c-a5ee7a8b161b"
      },
      "outputs": [
        {
          "output_type": "execute_result",
          "data": {
            "text/plain": [
              "0"
            ]
          },
          "metadata": {},
          "execution_count": 1
        }
      ],
      "source": [
        "# Exercise 1: Relu function\n",
        "def relu(x):\n",
        "  if x>=0:\n",
        "    ans=x\n",
        "  else:\n",
        "    ans=0\n",
        "  return ans\n",
        "\n",
        "relu(-3)"
      ]
    },
    {
      "cell_type": "markdown",
      "source": [
        "Exercise 2)"
      ],
      "metadata": {
        "id": "DFnwmmIjPRTg"
      }
    },
    {
      "cell_type": "code",
      "source": [
        "a = [1,2,3,4,5,6]\n",
        "a[3:]"
      ],
      "metadata": {
        "colab": {
          "base_uri": "https://localhost:8080/"
        },
        "id": "UDA219ExPTYM",
        "outputId": "780fa84f-411a-482a-fddb-2c176303d722"
      },
      "execution_count": 2,
      "outputs": [
        {
          "output_type": "execute_result",
          "data": {
            "text/plain": [
              "[4, 5, 6]"
            ]
          },
          "metadata": {},
          "execution_count": 2
        }
      ]
    }
  ]
}